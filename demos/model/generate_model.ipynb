{
 "cells": [
  {
   "cell_type": "code",
   "execution_count": 10,
   "id": "b9ada055-847a-4b59-9ee6-ba26bfd89013",
   "metadata": {},
   "outputs": [
    {
     "name": "stdout",
     "output_type": "stream",
     "text": [
      "The autoreload extension is already loaded. To reload it, use:\n",
      "  %reload_ext autoreload\n"
     ]
    }
   ],
   "source": [
    "%load_ext autoreload\n",
    "%autoreload 2\n",
    "from utils import parse_pcap_to_arrays, combine_data\n",
    "from model import train_model, export_model_to_onnx"
   ]
  },
  {
   "cell_type": "code",
   "execution_count": 6,
   "id": "67a04300-fca3-479c-8682-717f0c249ac9",
   "metadata": {},
   "outputs": [],
   "source": [
    "x_web_len, x_web_dir = parse_pcap_to_arrays(\"data/web.pcapng\")\n",
    "x_ssgo_len, x_ssgo_dir = parse_pcap_to_arrays(\"data/ssgo.pcapng\")"
   ]
  },
  {
   "cell_type": "code",
   "execution_count": 7,
   "id": "fc9f560c-499d-4b4a-8a95-f88a914a258e",
   "metadata": {},
   "outputs": [],
   "source": [
    "x, y = combine_data(x_web_len, x_web_dir, x_ssgo_len, x_ssgo_dir)"
   ]
  },
  {
   "cell_type": "code",
   "execution_count": 8,
   "id": "70cb7889-058e-4243-b8d9-6961e2c71f87",
   "metadata": {},
   "outputs": [
    {
     "name": "stdout",
     "output_type": "stream",
     "text": [
      "Epoch [1/20], Loss: 0.0168\n",
      "Epoch [2/20], Loss: 0.0155\n",
      "Epoch [3/20], Loss: 0.0048\n",
      "Epoch [4/20], Loss: 0.0085\n",
      "Epoch [5/20], Loss: 0.0034\n",
      "Epoch [6/20], Loss: 0.0034\n",
      "Epoch [7/20], Loss: 0.0055\n",
      "Epoch [8/20], Loss: 0.0023\n",
      "Epoch [9/20], Loss: 0.0013\n",
      "Epoch [10/20], Loss: 0.0019\n",
      "Epoch [11/20], Loss: 0.0021\n",
      "Epoch [12/20], Loss: 0.0018\n",
      "Epoch [13/20], Loss: 0.0036\n",
      "Epoch [14/20], Loss: 0.0133\n",
      "Epoch [15/20], Loss: 0.0016\n",
      "Epoch [16/20], Loss: 0.0125\n",
      "Epoch [17/20], Loss: 0.0017\n",
      "Epoch [18/20], Loss: 0.0015\n",
      "Epoch [19/20], Loss: 0.0021\n",
      "Epoch [20/20], Loss: 0.0017\n"
     ]
    }
   ],
   "source": [
    "model = train_model(x, y)"
   ]
  },
  {
   "cell_type": "code",
   "execution_count": 12,
   "id": "9d62b6f5-f340-43fa-8967-6c2735c6339c",
   "metadata": {},
   "outputs": [
    {
     "name": "stdout",
     "output_type": "stream",
     "text": [
      "Model exported to model.onnx\n"
     ]
    }
   ],
   "source": [
    "# See model.py for how this function works\n",
    "export_model_to_onnx(model)"
   ]
  },
  {
   "cell_type": "markdown",
   "id": "8a174264-c47d-4dc7-8ff0-9a1667625680",
   "metadata": {},
   "source": [
    "See [censor.toml](censor.toml) and [censor.py](censor.py) for how this model is used in CensorLab"
   ]
  },
  {
   "cell_type": "code",
   "execution_count": null,
   "id": "c605fbae-14b0-4773-a7e9-ac831ca4bb57",
   "metadata": {},
   "outputs": [],
   "source": []
  }
 ],
 "metadata": {
  "kernelspec": {
   "display_name": "Python 3 (ipykernel)",
   "language": "python",
   "name": "python3"
  },
  "language_info": {
   "codemirror_mode": {
    "name": "ipython",
    "version": 3
   },
   "file_extension": ".py",
   "mimetype": "text/x-python",
   "name": "python",
   "nbconvert_exporter": "python",
   "pygments_lexer": "ipython3",
   "version": "3.12.8"
  }
 },
 "nbformat": 4,
 "nbformat_minor": 5
}
